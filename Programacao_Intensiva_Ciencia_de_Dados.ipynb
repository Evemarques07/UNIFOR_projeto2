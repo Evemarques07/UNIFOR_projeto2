{
 "cells": [
  {
   "cell_type": "markdown",
   "metadata": {},
   "source": [
    "# 📘 Programação para Ciência de Dados – MBA Ciência de Dados, Universidade de Fortaleza\n",
    "\n",
    "**Instrutor:** Cássio Pinheiro  \n",
    "**Carga horária:** 28h  \n",
    "**Formato:** Intensivo (presencial ou híbrido)  \n",
    "**Linguagem:** Python  \n",
    "**Ambiente:** Jupyter Notebook / Google Colab\n",
    "\n",
    "Este notebook integra os cinco módulos da disciplina **Programação para Ciência de Dados**, combinando teoria técnica, exemplos práticos detalhados e desafios aplicados usando datasets reais.\n",
    "\n",
    "---\n",
    "\n",
    "## 📑 Índice\n",
    "\n",
    "1. [Módulo 1 - Fundamentos de Programação com Python](#modulo1)\n",
    "2. [Módulo 2 - Manipulação Avançada com Pandas e NumPy](#modulo2)\n",
    "3. [Módulo 3 - Visualização e Análise Exploratória de Dados](#modulo3)\n",
    "4. [Módulo 4 - Análise Estatística e Machine Learning](#modulo4)\n",
    "5. [Módulo 5 - Projeto Final Integrado](#modulo5)"
   ]
  },
  {
   "cell_type": "markdown",
   "metadata": {},
   "source": [
    "<a id='modulo1'></a>\n",
    "# 🧩 Módulo 1 – Fundamentos de Programação com Python\n",
    "\n",
    "Neste módulo, abordamos a base da linguagem Python aplicada à ciência de dados.  \n",
    "Exploramos tipos de dados, estruturas de controle, funções, compreensão de listas, e boas práticas.\n",
    "\n",
    "## 1.1 Tipos de Dados e Operações Básicas"
   ]
  },
  {
   "cell_type": "code",
   "execution_count": 1,
   "metadata": {},
   "outputs": [
    {
     "name": "stdout",
     "output_type": "stream",
     "text": [
      "Soma: 13\n",
      "Subtração: 7\n",
      "Multiplicação: 30\n",
      "Divisão: 3.33\n",
      "Divisão inteira: 3\n",
      "Resto: 1\n",
      "Potência: 1000\n"
     ]
    }
   ],
   "source": [
    "# Tipos de dados e operações\n",
    "x, y = 10, 3\n",
    "print(f\"Soma: {x + y}\")\n",
    "print(f\"Subtração: {x - y}\")\n",
    "print(f\"Multiplicação: {x * y}\")\n",
    "print(f\"Divisão: {x / y:.2f}\")\n",
    "print(f\"Divisão inteira: {x // y}\")\n",
    "print(f\"Resto: {x % y}\")\n",
    "print(f\"Potência: {x ** y}\")"
   ]
  },
  {
   "cell_type": "markdown",
   "metadata": {},
   "source": [
    "## 1.2 Estruturas de Dados Fundamentais"
   ]
  },
  {
   "cell_type": "code",
   "execution_count": 2,
   "metadata": {},
   "outputs": [
    {
     "name": "stdout",
     "output_type": "stream",
     "text": [
      "Lista original: [1, 2, 3, 4, 5]\n",
      "Primeiro elemento: 1\n",
      "Últimos dois: [4, 5]\n",
      "Slice [1:4]: [2, 3, 4]\n",
      "Após operações: [0, 1, 2, 3, 4, 5, 6, 7, 8]\n"
     ]
    }
   ],
   "source": [
    "# Listas\n",
    "numeros = [1, 2, 3, 4, 5]\n",
    "print(\"Lista original:\", numeros)\n",
    "print(\"Primeiro elemento:\", numeros[0])\n",
    "print(\"Últimos dois:\", numeros[-2:])\n",
    "print(\"Slice [1:4]:\", numeros[1:4])\n",
    "\n",
    "# Operações com listas\n",
    "numeros.append(6)\n",
    "numeros.extend([7, 8])\n",
    "numeros.insert(0, 0)\n",
    "print(\"Após operações:\", numeros)"
   ]
  },
  {
   "cell_type": "code",
   "execution_count": null,
   "metadata": {},
   "outputs": [],
   "source": [
    "# Dicionários\n",
    "aluno = {\n",
    "    'nome': 'Ana Silva',\n",
    "    'idade': 28,\n",
    "    'curso': 'MBA Ciência de Dados',\n",
    "    'notas': [8.5, 9.0, 7.5, 8.0]\n",
    "}\n",
    "\n",
    "print(f\"Nome: {aluno['nome']}\")\n",
    "print(f\"Média: {sum(aluno['notas']) / len(aluno['notas']):.2f}\")\n",
    "\n",
    "# Iteração\n",
    "for chave, valor in aluno.items():\n",
    "    print(f\"{chave}: {valor}\")"
   ]
  },
  {
   "cell_type": "code",
   "execution_count": null,
   "metadata": {},
   "outputs": [],
   "source": [
    "# Tuplas e Sets\n",
    "coordenadas = (10.5, 20.3)\n",
    "x, y = coordenadas  # Unpacking\n",
    "print(f\"X: {x}, Y: {y}\")\n",
    "\n",
    "# Sets - operações de conjunto\n",
    "set_a = {1, 2, 3, 4, 5}\n",
    "set_b = {4, 5, 6, 7, 8}\n",
    "\n",
    "print(f\"União: {set_a | set_b}\")\n",
    "print(f\"Interseção: {set_a & set_b}\")\n",
    "print(f\"Diferença: {set_a - set_b}\")\n",
    "print(f\"Diferença simétrica: {set_a ^ set_b}\")"
   ]
  },
  {
   "cell_type": "markdown",
   "metadata": {},
   "source": [
    "## 1.3 Estruturas de Controle"
   ]
  },
  {
   "cell_type": "code",
   "execution_count": null,
   "metadata": {},
   "outputs": [],
   "source": [
    "# Estruturas condicionais e laços\n",
    "valores = [10, 15, 20, 25, 30]\n",
    "\n",
    "for v in valores:\n",
    "    if v % 2 == 0:\n",
    "        print(f\"{v} é par\")\n",
    "    else:\n",
    "        print(f\"{v} é ímpar\")\n",
    "\n",
    "# While loop\n",
    "contador = 0\n",
    "soma = 0\n",
    "while contador < 5:\n",
    "    soma += contador\n",
    "    contador += 1\n",
    "print(f\"Soma de 0 a 4: {soma}\")"
   ]
  },
  {
   "cell_type": "markdown",
   "metadata": {},
   "source": [
    "## 1.4 Compreensões e Programação Funcional"
   ]
  },
  {
   "cell_type": "code",
   "execution_count": null,
   "metadata": {},
   "outputs": [],
   "source": [
    "# List comprehension\n",
    "quadrados = [x**2 for x in range(1, 11)]\n",
    "print(\"Quadrados:\", quadrados)\n",
    "\n",
    "# Com condição\n",
    "pares = [x for x in quadrados if x % 2 == 0]\n",
    "print(\"Apenas pares:\", pares)\n",
    "\n",
    "# Dict comprehension\n",
    "quadrados_dict = {x: x**2 for x in range(1, 6)}\n",
    "print(\"Dicionário de quadrados:\", quadrados_dict)\n",
    "\n",
    "# Set comprehension\n",
    "vogais = {letra.lower() for palavra in ['Python', 'Data', 'Science'] \n",
    "          for letra in palavra if letra.lower() in 'aeiou'}\n",
    "print(\"Vogais únicas:\", vogais)"
   ]
  },
  {
   "cell_type": "code",
   "execution_count": null,
   "metadata": {},
   "outputs": [],
   "source": [
    "# Funções lambda e map/filter/reduce\n",
    "dobro = lambda x: x * 2\n",
    "numeros_dobrados = list(map(dobro, [1, 2, 3, 4]))\n",
    "print(\"Dobrados:\", numeros_dobrados)\n",
    "\n",
    "# Filter\n",
    "pares_filter = list(filter(lambda x: x % 2 == 0, range(10)))\n",
    "print(\"Pares com filter:\", pares_filter)\n",
    "\n",
    "# Reduce\n",
    "from functools import reduce\n",
    "produto = reduce(lambda x, y: x * y, [1, 2, 3, 4, 5])\n",
    "print(f\"Produto de 1 a 5: {produto}\")"
   ]
  },
  {
   "cell_type": "markdown",
   "metadata": {},
   "source": [
    "## 1.5 Funções Avançadas"
   ]
  },
  {
   "cell_type": "code",
   "execution_count": null,
   "metadata": {},
   "outputs": [],
   "source": [
    "# Função com argumentos padrão e documentação\n",
    "def calcular_estatisticas(dados, incluir_media=True, incluir_mediana=False):\n",
    "    \"\"\"\n",
    "    Calcula estatísticas básicas de uma lista de números.\n",
    "    \n",
    "    Args:\n",
    "        dados (list): Lista de números\n",
    "        incluir_media (bool): Se True, calcula a média\n",
    "        incluir_mediana (bool): Se True, calcula a mediana\n",
    "    \n",
    "    Returns:\n",
    "        dict: Dicionário com as estatísticas calculadas\n",
    "    \"\"\"\n",
    "    resultado = {\n",
    "        'minimo': min(dados),\n",
    "        'maximo': max(dados),\n",
    "        'quantidade': len(dados)\n",
    "    }\n",
    "    \n",
    "    if incluir_media:\n",
    "        resultado['media'] = sum(dados) / len(dados)\n",
    "    \n",
    "    if incluir_mediana:\n",
    "        dados_ordenados = sorted(dados)\n",
    "        n = len(dados_ordenados)\n",
    "        if n % 2 == 0:\n",
    "            resultado['mediana'] = (dados_ordenados[n//2-1] + dados_ordenados[n//2]) / 2\n",
    "        else:\n",
    "            resultado['mediana'] = dados_ordenados[n//2]\n",
    "    \n",
    "    return resultado\n",
    "\n",
    "# Teste\n",
    "dados = [10, 20, 30, 40, 50]\n",
    "stats = calcular_estatisticas(dados, incluir_mediana=True)\n",
    "print(stats)"
   ]
  },
  {
   "cell_type": "markdown",
   "metadata": {},
   "source": [
    "## 1.6 Manipulação de Arquivos"
   ]
  },
  {
   "cell_type": "code",
   "execution_count": null,
   "metadata": {},
   "outputs": [],
   "source": [
    "# Escrita de arquivo\n",
    "with open(\"exemplo.txt\", \"w\", encoding='utf-8') as f:\n",
    "    f.write(\"Disciplina: Programação para Ciência de Dados\\n\")\n",
    "    f.write(\"Instrutor: Cássio Pinheiro\\n\")\n",
    "    f.write(\"Universidade de Fortaleza\\n\")\n",
    "\n",
    "# Leitura de arquivo\n",
    "with open(\"exemplo.txt\", \"r\", encoding='utf-8') as f:\n",
    "    conteudo = f.read()\n",
    "    print(conteudo)\n",
    "\n",
    "# Leitura linha por linha\n",
    "with open(\"exemplo.txt\", \"r\", encoding='utf-8') as f:\n",
    "    for i, linha in enumerate(f, 1):\n",
    "        print(f\"Linha {i}: {linha.strip()}\")"
   ]
  },
  {
   "cell_type": "markdown",
   "metadata": {},
   "source": [
    "<a id='modulo2'></a>\n",
    "# 🧮 Módulo 2 – Manipulação Avançada com Pandas e NumPy\n",
    "\n",
    "Introdução à manipulação de dados estruturados com as bibliotecas `pandas` e `numpy`.  \n",
    "Inclui leitura, limpeza, transformação, agregações e joins.\n",
    "\n",
    "## 2.1 NumPy - Fundamentos"
   ]
  },
  {
   "cell_type": "code",
   "execution_count": null,
   "metadata": {},
   "outputs": [],
   "source": [
    "import numpy as np\n",
    "\n",
    "# Criação de arrays\n",
    "arr1d = np.array([1, 2, 3, 4, 5])\n",
    "arr2d = np.array([[1, 2, 3], [4, 5, 6]])\n",
    "zeros = np.zeros((3, 4))\n",
    "ones = np.ones((2, 3))\n",
    "identidade = np.eye(3)\n",
    "aleatorio = np.random.rand(3, 3)\n",
    "\n",
    "print(\"Array 1D:\", arr1d)\n",
    "print(\"\\nArray 2D:\\n\", arr2d)\n",
    "print(\"\\nZeros:\\n\", zeros)\n",
    "print(\"\\nIdentidade:\\n\", identidade)"
   ]
  },
  {
   "cell_type": "code",
   "execution_count": null,
   "metadata": {},
   "outputs": [],
   "source": [
    "# Operações vetorizadas (muito mais rápidas que loops)\n",
    "arr = np.array([1, 2, 3, 4, 5])\n",
    "\n",
    "print(\"Original:\", arr)\n",
    "print(\"Multiplicado por 2:\", arr * 2)\n",
    "print(\"Ao quadrado:\", arr ** 2)\n",
    "print(\"Mais 10:\", arr + 10)\n",
    "\n",
    "# Operações entre arrays\n",
    "arr2 = np.array([10, 20, 30, 40, 50])\n",
    "print(\"Soma de arrays:\", arr + arr2)\n",
    "print(\"Produto elemento a elemento:\", arr * arr2)"
   ]
  },
  {
   "cell_type": "code",
   "execution_count": null,
   "metadata": {},
   "outputs": [],
   "source": [
    "# Indexação e fatiamento\n",
    "arr = np.array([1, 2, 3, 4, 5, 6, 7, 8, 9, 10])\n",
    "\n",
    "# Indexação booleana\n",
    "maiores_que_5 = arr[arr > 5]\n",
    "print(\"Maiores que 5:\", maiores_que_5)\n",
    "\n",
    "pares = arr[arr % 2 == 0]\n",
    "print(\"Pares:\", pares)\n",
    "\n",
    "# Fancy indexing\n",
    "indices = [0, 2, 4, 6]\n",
    "elementos = arr[indices]\n",
    "print(\"Elementos nos índices [0,2,4,6]:\", elementos)"
   ]
  },
  {
   "cell_type": "code",
   "execution_count": null,
   "metadata": {},
   "outputs": [],
   "source": [
    "# Operações estatísticas\n",
    "np.random.seed(42)\n",
    "dados = np.random.randn(1000)\n",
    "\n",
    "print(f\"Média: {np.mean(dados):.4f}\")\n",
    "print(f\"Mediana: {np.median(dados):.4f}\")\n",
    "print(f\"Desvio padrão: {np.std(dados):.4f}\")\n",
    "print(f\"Variância: {np.var(dados):.4f}\")\n",
    "print(f\"Mínimo: {np.min(dados):.4f}\")\n",
    "print(f\"Máximo: {np.max(dados):.4f}\")\n",
    "print(f\"Percentil 25: {np.percentile(dados, 25):.4f}\")\n",
    "print(f\"Percentil 75: {np.percentile(dados, 75):.4f}\")"
   ]
  },
  {
   "cell_type": "code",
   "execution_count": null,
   "metadata": {},
   "outputs": [],
   "source": [
    "# Álgebra linear\n",
    "A = np.array([[1, 2], [3, 4]])\n",
    "B = np.array([[5, 6], [7, 8]])\n",
    "\n",
    "print(\"Matriz A:\\n\", A)\n",
    "print(\"\\nMatriz B:\\n\", B)\n",
    "\n",
    "# Multiplicação de matrizes\n",
    "produto = np.dot(A, B)\n",
    "print(\"\\nA × B:\\n\", produto)\n",
    "\n",
    "# Determinante\n",
    "det_A = np.linalg.det(A)\n",
    "print(f\"\\nDeterminante de A: {det_A}\")\n",
    "\n",
    "# Inversa\n",
    "inv_A = np.linalg.inv(A)\n",
    "print(\"\\nInversa de A:\\n\", inv_A)\n",
    "\n",
    "# Autovalores e autovetores\n",
    "autovalores, autovetores = np.linalg.eig(A)\n",
    "print(\"\\nAutovalores:\", autovalores)\n",
    "print(\"\\nAutovetores:\\n\", autovetores)"
   ]
  },
  {
   "cell_type": "markdown",
   "metadata": {},
   "source": [
    "## 2.2 Pandas - DataFrames e Series\n",
    "\n",
    "Vamos trabalhar com os datasets reais disponíveis."
   ]
  },
  {
   "cell_type": "code",
   "execution_count": 3,
   "metadata": {},
   "outputs": [
    {
     "ename": "ModuleNotFoundError",
     "evalue": "No module named 'pandas'",
     "output_type": "error",
     "traceback": [
      "\u001b[0;31m---------------------------------------------------------------------------\u001b[0m",
      "\u001b[0;31mModuleNotFoundError\u001b[0m                       Traceback (most recent call last)",
      "Cell \u001b[0;32mIn[3], line 1\u001b[0m\n\u001b[0;32m----> 1\u001b[0m \u001b[38;5;28;01mimport\u001b[39;00m\u001b[38;5;250m \u001b[39m\u001b[38;5;21;01mpandas\u001b[39;00m\u001b[38;5;250m \u001b[39m\u001b[38;5;28;01mas\u001b[39;00m\u001b[38;5;250m \u001b[39m\u001b[38;5;21;01mpd\u001b[39;00m\n\u001b[1;32m      3\u001b[0m \u001b[38;5;66;03m# Leitura do dataset Titanic\u001b[39;00m\n\u001b[1;32m      4\u001b[0m df_titanic \u001b[38;5;241m=\u001b[39m pd\u001b[38;5;241m.\u001b[39mread_csv(\u001b[38;5;124m\"\u001b[39m\u001b[38;5;124mdatasets/titanic.csv\u001b[39m\u001b[38;5;124m\"\u001b[39m)\n",
      "\u001b[0;31mModuleNotFoundError\u001b[0m: No module named 'pandas'"
     ]
    }
   ],
   "source": [
    "import pandas as pd\n",
    "\n",
    "# Leitura do dataset Titanic\n",
    "df_titanic = pd.read_csv(\"datasets/titanic.csv\")\n",
    "\n",
    "print(\"Primeiras linhas:\")\n",
    "print(df_titanic.head())\n",
    "\n",
    "print(\"\\nInformações do dataset:\")\n",
    "print(df_titanic.info())\n",
    "\n",
    "print(\"\\nEstatísticas descritivas:\")\n",
    "print(df_titanic.describe())"
   ]
  },
  {
   "cell_type": "code",
   "execution_count": null,
   "metadata": {},
   "outputs": [],
   "source": [
    "# Verificar valores ausentes\n",
    "print(\"Valores nulos por coluna:\")\n",
    "print(df_titanic.isnull().sum())\n",
    "\n",
    "print(\"\\nPercentual de valores nulos:\")\n",
    "print((df_titanic.isnull().sum() / len(df_titanic) * 100).round(2))"
   ]
  },
  {
   "cell_type": "code",
   "execution_count": null,
   "metadata": {},
   "outputs": [],
   "source": [
    "# Limpeza de dados\n",
    "df = df_titanic.copy()\n",
    "\n",
    "# Preencher idade com a média\n",
    "df['Age'].fillna(df['Age'].mean(), inplace=True)\n",
    "\n",
    "# Mapear sexo para português\n",
    "df['Sex'] = df['Sex'].map({'male': 'Masculino', 'female': 'Feminino'})\n",
    "\n",
    "# Criar faixa etária\n",
    "df['FaixaEtaria'] = pd.cut(df['Age'], bins=[0, 18, 35, 60, 100], \n",
    "                            labels=['Criança/Adolescente', 'Jovem', 'Adulto', 'Idoso'])\n",
    "\n",
    "print(\"Dataset após limpeza:\")\n",
    "print(df.head())"
   ]
  },
  {
   "cell_type": "code",
   "execution_count": null,
   "metadata": {},
   "outputs": [],
   "source": [
    "# Seleção e filtragem\n",
    "# Selecionar colunas específicas\n",
    "df_subset = df[['PassengerId', 'Pclass', 'Sex', 'Age', 'Survived']]\n",
    "print(\"Subset de colunas:\")\n",
    "print(df_subset.head())\n",
    "\n",
    "# Filtrar passageiros que sobreviveram\n",
    "sobreviventes = df[df['Survived'] == 1]\n",
    "print(f\"\\nTotal de sobreviventes: {len(sobreviventes)}\")\n",
    "\n",
    "# Múltiplas condições\n",
    "mulheres_primeira_classe = df[(df['Sex'] == 'Feminino') & (df['Pclass'] == 1)]\n",
    "print(f\"\\nMulheres na primeira classe: {len(mulheres_primeira_classe)}\")\n",
    "print(f\"Taxa de sobrevivência: {mulheres_primeira_classe['Survived'].mean():.2%}\")"
   ]
  },
  {
   "cell_type": "code",
   "execution_count": null,
   "metadata": {},
   "outputs": [],
   "source": [
    "# Agrupamentos e agregações\n",
    "print(\"Taxa de sobrevivência por classe:\")\n",
    "por_classe = df.groupby('Pclass')['Survived'].agg(['mean', 'count'])\n",
    "por_classe.columns = ['TaxaSobrevivencia', 'Total']\n",
    "print(por_classe)\n",
    "\n",
    "print(\"\\nTaxa de sobrevivência por classe e sexo:\")\n",
    "por_classe_sexo = df.groupby(['Pclass', 'Sex'])['Survived'].agg(['mean', 'count'])\n",
    "por_classe_sexo.columns = ['TaxaSobrevivencia', 'Total']\n",
    "print(por_classe_sexo)\n",
    "\n",
    "# Múltiplas agregações\n",
    "print(\"\\nEstatísticas de idade por classe:\")\n",
    "stats_idade = df.groupby('Pclass')['Age'].agg(['mean', 'median', 'min', 'max', 'std'])\n",
    "print(stats_idade.round(2))"
   ]
  },
  {
   "cell_type": "markdown",
   "metadata": {},
   "source": [
    "## 2.3 Análise do Dataset de Vendas"
   ]
  },
  {
   "cell_type": "code",
   "execution_count": null,
   "metadata": {},
   "outputs": [],
   "source": [
    "# Carregar dataset de vendas\n",
    "df_vendas = pd.read_csv(\"datasets/vendas.csv\")\n",
    "df_vendas['Data'] = pd.to_datetime(df_vendas['Data'])\n",
    "\n",
    "print(\"Dataset de Vendas:\")\n",
    "print(df_vendas.head())\n",
    "print(f\"\\nPeríodo: {df_vendas['Data'].min()} a {df_vendas['Data'].max()}\")\n",
    "print(f\"Total de registros: {len(df_vendas)}\")"
   ]
  },
  {
   "cell_type": "code",
   "execution_count": null,
   "metadata": {},
   "outputs": [],
   "source": [
    "# Análise por região\n",
    "print(\"Desempenho por Região:\")\n",
    "por_regiao = df_vendas.groupby('Regiao').agg({\n",
    "    'Receita': ['sum', 'mean'],\n",
    "    'Lucro': ['sum', 'mean'],\n",
    "    'Qtd_Vendida': 'sum'\n",
    "}).round(2)\n",
    "print(por_regiao)\n",
    "\n",
    "# Calcular margem de lucro\n",
    "margem_por_regiao = (df_vendas.groupby('Regiao')['Lucro'].sum() / \n",
    "                     df_vendas.groupby('Regiao')['Receita'].sum() * 100)\n",
    "print(\"\\nMargem de Lucro por Região:\")\n",
    "print(margem_por_regiao.round(2))"
   ]
  },
  {
   "cell_type": "code",
   "execution_count": null,
   "metadata": {},
   "outputs": [],
   "source": [
    "# Análise por produto\n",
    "print(\"Top 5 Produtos por Receita:\")\n",
    "top_produtos = df_vendas.groupby('Produto').agg({\n",
    "    'Receita': 'sum',\n",
    "    'Lucro': 'sum',\n",
    "    'Qtd_Vendida': 'sum'\n",
    "}).sort_values('Receita', ascending=False)\n",
    "print(top_produtos)\n",
    "\n",
    "# Margem por produto\n",
    "top_produtos['Margem_%'] = (top_produtos['Lucro'] / top_produtos['Receita'] * 100).round(2)\n",
    "print(\"\\nProdutos com margem:\")\n",
    "print(top_produtos)"
   ]
  },
  {
   "cell_type": "code",
   "execution_count": null,
   "metadata": {},
   "outputs": [],
   "source": [
    "# Análise temporal\n",
    "df_vendas['Ano'] = df_vendas['Data'].dt.year\n",
    "df_vendas['Mes'] = df_vendas['Data'].dt.month\n",
    "df_vendas['Trimestre'] = df_vendas['Data'].dt.quarter\n",
    "\n",
    "print(\"Receita por Ano:\")\n",
    "por_ano = df_vendas.groupby('Ano')['Receita'].sum()\n",
    "print(por_ano)\n",
    "\n",
    "print(\"\\nCrescimento ano a ano:\")\n",
    "crescimento = por_ano.pct_change() * 100\n",
    "print(crescimento.round(2))"
   ]
  },
  {
   "cell_type": "code",
   "execution_count": null,
   "metadata": {},
   "outputs": [],
   "source": [
    "# Desempenho por vendedor\n",
    "print(\"Ranking de Vendedores:\")\n",
    "ranking_vendedores = df_vendas.groupby('Vendedor').agg({\n",
    "    'Receita': 'sum',\n",
    "    'Lucro': 'sum',\n",
    "    'Qtd_Vendida': 'sum'\n",
    "}).sort_values('Receita', ascending=False)\n",
    "ranking_vendedores['Ticket_Medio'] = (ranking_vendedores['Receita'] / \n",
    "                                       ranking_vendedores['Qtd_Vendida'])\n",
    "print(ranking_vendedores.round(2))"
   ]
  },
  {
   "cell_type": "markdown",
   "metadata": {},
   "source": [
    "## 2.4 Operações Avançadas - Pivot, Melt, Merge"
   ]
  },
  {
   "cell_type": "code",
   "execution_count": null,
   "metadata": {},
   "outputs": [],
   "source": [
    "# Pivot Table\n",
    "pivot_vendas = pd.pivot_table(\n",
    "    df_vendas,\n",
    "    values='Receita',\n",
    "    index='Regiao',\n",
    "    columns='Produto',\n",
    "    aggfunc='sum',\n",
    "    fill_value=0\n",
    ")\n",
    "\n",
    "print(\"Pivot Table - Receita por Região e Produto:\")\n",
    "print(pivot_vendas.round(2))"
   ]
  },
  {
   "cell_type": "code",
   "execution_count": null,
   "metadata": {},
   "outputs": [],
   "source": [
    "# Aplicar função customizada\n",
    "def classificar_receita(receita):\n",
    "    if receita < 100000:\n",
    "        return 'Baixa'\n",
    "    elif receita < 300000:\n",
    "        return 'Média'\n",
    "    else:\n",
    "        return 'Alta'\n",
    "\n",
    "df_vendas['ClasseReceita'] = df_vendas['Receita'].apply(classificar_receita)\n",
    "\n",
    "print(\"Distribuição por classe de receita:\")\n",
    "print(df_vendas['ClasseReceita'].value_counts())"
   ]
  },
  {
   "cell_type": "code",
   "execution_count": null,
   "metadata": {},
   "outputs": [],
   "source": [
    "# String operations\n",
    "df_vendas['Regiao_Upper'] = df_vendas['Regiao'].str.upper()\n",
    "df_vendas['Produto_Lower'] = df_vendas['Produto'].str.lower()\n",
    "df_vendas['Tem_Norte'] = df_vendas['Regiao'].str.contains('Norte')\n",
    "\n",
    "print(\"Registros da região Norte:\")\n",
    "print(df_vendas[df_vendas['Tem_Norte']].groupby('Regiao')['Receita'].sum())"
   ]
  },
  {
   "cell_type": "markdown",
   "metadata": {},
   "source": [
    "<a id='modulo3'></a>\n",
    "# 📊 Módulo 3 – Visualização e Análise Exploratória de Dados\n",
    "\n",
    "Visualização é parte essencial da ciência de dados.  \n",
    "Neste módulo utilizaremos **Matplotlib**, **Seaborn** e **Plotly** para compreender padrões e distribuições.\n",
    "\n",
    "## 3.1 Matplotlib - Visualizações Básicas"
   ]
  },
  {
   "cell_type": "code",
   "execution_count": null,
   "metadata": {},
   "outputs": [],
   "source": [
    "import matplotlib.pyplot as plt\n",
    "import seaborn as sns\n",
    "\n",
    "# Configuração de estilo\n",
    "sns.set_style('whitegrid')\n",
    "plt.rcParams['figure.figsize'] = (12, 6)\n",
    "plt.rcParams['font.size'] = 10"
   ]
  },
  {
   "cell_type": "code",
   "execution_count": null,
   "metadata": {},
   "outputs": [],
   "source": [
    "# Histograma - Distribuição de idades no Titanic\n",
    "plt.figure(figsize=(10, 6))\n",
    "plt.hist(df['Age'], bins=30, alpha=0.7, color='skyblue', edgecolor='black')\n",
    "plt.axvline(df['Age'].mean(), color='red', linestyle='--', linewidth=2, \n",
    "            label=f'Média: {df[\"Age\"].mean():.1f}')\n",
    "plt.axvline(df['Age'].median(), color='green', linestyle='--', linewidth=2, \n",
    "            label=f'Mediana: {df[\"Age\"].median():.1f}')\n",
    "plt.xlabel('Idade')\n",
    "plt.ylabel('Frequência')\n",
    "plt.title('Distribuição de Idades - Titanic', fontsize=14, fontweight='bold')\n",
    "plt.legend()\n",
    "plt.grid(True, alpha=0.3)\n",
    "plt.show()"
   ]
  },
  {
   "cell_type": "code",
   "execution_count": null,
   "metadata": {},
   "outputs": [],
   "source": [
    "# Gráfico de barras - Taxa de sobrevivência por classe\n",
    "sobrevivencia_classe = df.groupby('Pclass')['Survived'].mean()\n",
    "\n",
    "plt.figure(figsize=(10, 6))\n",
    "bars = plt.bar(sobrevivencia_classe.index, sobrevivencia_classe.values, \n",
    "               color=['gold', 'silver', '#CD7F32'], edgecolor='black', alpha=0.8)\n",
    "\n",
    "# Adicionar valores nas barras\n",
    "for bar in bars:\n",
    "    height = bar.get_height()\n",
    "    plt.text(bar.get_x() + bar.get_width()/2., height,\n",
    "             f'{height:.1%}', ha='center', va='bottom', fontweight='bold')\n",
    "\n",
    "plt.xlabel('Classe', fontweight='bold')\n",
    "plt.ylabel('Taxa de Sobrevivência', fontweight='bold')\n",
    "plt.title('Taxa de Sobrevivência por Classe - Titanic', fontsize=14, fontweight='bold')\n",
    "plt.xticks([1, 2, 3], ['1ª Classe', '2ª Classe', '3ª Classe'])\n",
    "plt.ylim(0, 1)\n",
    "plt.grid(True, alpha=0.3, axis='y')\n",
    "plt.show()"
   ]
  },
  {
   "cell_type": "code",
   "execution_count": null,
   "metadata": {},
   "outputs": [],
   "source": [
    "# Subplots - Múltiplos gráficos\n",
    "fig, axes = plt.subplots(2, 2, figsize=(15, 10))\n",
    "\n",
    "# Gráfico 1: Distribuição de idade\n",
    "axes[0, 0].hist(df['Age'], bins=30, alpha=0.7, color='skyblue', edgecolor='black')\n",
    "axes[0, 0].set_title('Distribuição de Idades', fontweight='bold')\n",
    "axes[0, 0].set_xlabel('Idade')\n",
    "axes[0, 0].set_ylabel('Frequência')\n",
    "\n",
    "# Gráfico 2: Distribuição de tarifas\n",
    "axes[0, 1].hist(df['Fare'], bins=30, alpha=0.7, color='lightcoral', edgecolor='black')\n",
    "axes[0, 1].set_title('Distribuição de Tarifas', fontweight='bold')\n",
    "axes[0, 1].set_xlabel('Tarifa')\n",
    "axes[0, 1].set_ylabel('Frequência')\n",
    "\n",
    "# Gráfico 3: Contagem por classe\n",
    "df['Pclass'].value_counts().sort_index().plot(kind='bar', ax=axes[1, 0], \n",
    "                                               color='lightgreen', edgecolor='black')\n",
    "axes[1, 0].set_title('Passageiros por Classe', fontweight='bold')\n",
    "axes[1, 0].set_xlabel('Classe')\n",
    "axes[1, 0].set_ylabel('Quantidade')\n",
    "axes[1, 0].set_xticklabels(['1ª Classe', '2ª Classe', '3ª Classe'], rotation=0)\n",
    "\n",
    "# Gráfico 4: Taxa de sobrevivência por sexo\n",
    "df.groupby('Sex')['Survived'].mean().plot(kind='bar', ax=axes[1, 1], \n",
    "                                          color=['lightblue', 'pink'], edgecolor='black')\n",
    "axes[1, 1].set_title('Taxa de Sobrevivência por Sexo', fontweight='bold')\n",
    "axes[1, 1].set_xlabel('Sexo')\n",
    "axes[1, 1].set_ylabel('Taxa de Sobrevivência')\n",
    "axes[1, 1].set_xticklabels(['Feminino', 'Masculino'], rotation=0)\n",
    "\n",
    "plt.tight_layout()\n",
    "plt.show()"
   ]
  },
  {
   "cell_type": "markdown",
   "metadata": {},
   "source": [
    "## 3.2 Seaborn - Visualizações Estatísticas"
   ]
  },
  {
   "cell_type": "code",
   "execution_count": null,
   "metadata": {},
   "outputs": [],
   "source": [
    "# Box Plot - Distribuição de idade por classe e sobrevivência\n",
    "plt.figure(figsize=(12, 6))\n",
    "sns.boxplot(x='Pclass', y='Age', hue='Survived', data=df, palette='Set2')\n",
    "plt.title('Distribuição de Idade por Classe e Sobrevivência', fontsize=14, fontweight='bold')\n",
    "plt.xlabel('Classe', fontweight='bold')\n",
    "plt.ylabel('Idade', fontweight='bold')\n",
    "plt.legend(title='Sobreviveu', labels=['Não', 'Sim'])\n",
    "plt.show()"
   ]
  },
  {
   "cell_type": "code",
   "execution_count": null,
   "metadata": {},
   "outputs": [],
   "source": [
    "# Violin Plot\n",
    "plt.figure(figsize=(12, 6))\n",
    "sns.violinplot(x='Pclass', y='Fare', hue='Sex', data=df, split=True, palette='muted')\n",
    "plt.title('Distribuição de Tarifas por Classe e Sexo', fontsize=14, fontweight='bold')\n",
    "plt.xlabel('Classe', fontweight='bold')\n",
    "plt.ylabel('Tarifa', fontweight='bold')\n",
    "plt.legend(title='Sexo')\n",
    "plt.show()"
   ]
  },
  {
   "cell_type": "code",
   "execution_count": null,
   "metadata": {},
   "outputs": [],
   "source": [
    "# Count Plot\n",
    "plt.figure(figsize=(12, 6))\n",
    "sns.countplot(x='Pclass', hue='Survived', data=df, palette='viridis')\n",
    "plt.title('Contagem de Passageiros por Classe e Sobrevivência', fontsize=14, fontweight='bold')\n",
    "plt.xlabel('Classe', fontweight='bold')\n",
    "plt.ylabel('Contagem', fontweight='bold')\n",
    "plt.legend(title='Sobreviveu', labels=['Não', 'Sim'])\n",
    "plt.show()"
   ]
  },
  {
   "cell_type": "code",
   "execution_count": null,
   "metadata": {},
   "outputs": [],
   "source": [
    "# Heatmap de correlação\n",
    "plt.figure(figsize=(10, 8))\n",
    "correlacao = df[['Pclass', 'Age', 'Fare', 'Survived']].corr()\n",
    "sns.heatmap(correlacao, annot=True, cmap='coolwarm', center=0, \n",
    "            square=True, linewidths=1, cbar_kws={\"shrink\": 0.8})\n",
    "plt.title('Matriz de Correlação - Titanic', fontsize=14, fontweight='bold')\n",
    "plt.show()"
   ]
  },
  {
   "cell_type": "markdown",
   "metadata": {},
   "source": [
    "## 3.3 Visualizações com Dados de Vendas"
   ]
  },
  {
   "cell_type": "code",
   "execution_count": null,
   "metadata": {},
   "outputs": [],
   "source": [
    "# Evolução temporal de vendas\n",
    "vendas_mensais = df_vendas.groupby(df_vendas['Data'].dt.to_period('M'))['Receita'].sum()\n",
    "vendas_mensais.index = vendas_mensais.index.to_timestamp()\n",
    "\n",
    "plt.figure(figsize=(15, 6))\n",
    "plt.plot(vendas_mensais.index, vendas_mensais.values, marker='o', linewidth=2)\n",
    "plt.fill_between(vendas_mensais.index, vendas_mensais.values, alpha=0.3)\n",
    "plt.title('Evolução Mensal de Receita', fontsize=14, fontweight='bold')\n",
    "plt.xlabel('Data', fontweight='bold')\n",
    "plt.ylabel('Receita', fontweight='bold')\n",
    "plt.grid(True, alpha=0.3)\n",
    "plt.xticks(rotation=45)\n",
    "plt.tight_layout()\n",
    "plt.show()"
   ]
  },
  {
   "cell_type": "code",
   "execution_count": null,
   "metadata": {},
   "outputs": [],
   "source": [
    "# Gráfico de barras horizontal - Receita por região\n",
    "receita_regiao = df_vendas.groupby('Regiao')['Receita'].sum().sort_values()\n",
    "\n",
    "plt.figure(figsize=(10, 6))\n",
    "bars = plt.barh(receita_regiao.index, receita_regiao.values, \n",
    "                color=sns.color_palette('husl', len(receita_regiao)))\n",
    "\n",
    "# Adicionar valores\n",
    "for i, (idx, val) in enumerate(receita_regiao.items()):\n",
    "    plt.text(val, i, f' R$ {val:,.0f}', va='center', fontweight='bold')\n",
    "\n",
    "plt.title('Receita Total por Região', fontsize=14, fontweight='bold')\n",
    "plt.xlabel('Receita (R$)', fontweight='bold')\n",
    "plt.ylabel('Região', fontweight='bold')\n",
    "plt.grid(True, alpha=0.3, axis='x')\n",
    "plt.tight_layout()\n",
    "plt.show()"
   ]
  },
  {
   "cell_type": "code",
   "execution_count": null,
   "metadata": {},
   "outputs": [],
   "source": [
    "# Gráfico de pizza - Participação por produto\n",
    "vendas_produto = df_vendas.groupby('Produto')['Receita'].sum()\n",
    "\n",
    "plt.figure(figsize=(10, 8))\n",
    "colors = sns.color_palette('pastel')\n",
    "plt.pie(vendas_produto.values, labels=vendas_produto.index, autopct='%1.1f%%',\n",
    "        startangle=90, colors=colors, wedgeprops={'edgecolor': 'black'})\n",
    "plt.title('Participação de Cada Produto na Receita Total', fontsize=14, fontweight='bold')\n",
    "plt.axis('equal')\n",
    "plt.show()"
   ]
  },
  {
   "cell_type": "code",
   "execution_count": null,
   "metadata": {},
   "outputs": [],
   "source": [
    "# Heatmap - Receita por região e produto\n",
    "pivot_reg_prod = pd.pivot_table(\n",
    "    df_vendas, \n",
    "    values='Receita', \n",
    "    index='Regiao', \n",
    "    columns='Produto', \n",
    "    aggfunc='sum'\n",
    ")\n",
    "\n",
    "plt.figure(figsize=(12, 6))\n",
    "sns.heatmap(pivot_reg_prod, annot=True, fmt='.0f', cmap='YlOrRd', \n",
    "            linewidths=0.5, cbar_kws={'label': 'Receita'})\n",
    "plt.title('Receita por Região e Produto', fontsize=14, fontweight='bold')\n",
    "plt.xlabel('Produto', fontweight='bold')\n",
    "plt.ylabel('Região', fontweight='bold')\n",
    "plt.tight_layout()\n",
    "plt.show()"
   ]
  },
  {
   "cell_type": "markdown",
   "metadata": {},
   "source": [
    "## 3.4 Análise do Dataset de COVID"
   ]
  },
  {
   "cell_type": "code",
   "execution_count": null,
   "metadata": {},
   "outputs": [],
   "source": [
    "# Carregar e preparar dados de COVID\n",
    "df_covid = pd.read_csv(\"datasets/covid.csv\")\n",
    "df_covid['Data'] = pd.to_datetime(df_covid['Data'])\n",
    "\n",
    "print(\"Dataset COVID-19:\")\n",
    "print(df_covid.head())\n",
    "print(f\"\\nPeríodo: {df_covid['Data'].min()} a {df_covid['Data'].max()}\")"
   ]
  },
  {
   "cell_type": "code",
   "execution_count": null,
   "metadata": {},
   "outputs": [],
   "source": [
    "# Evolução de casos por região\n",
    "fig, axes = plt.subplots(2, 1, figsize=(15, 10))\n",
    "\n",
    "# Casos ao longo do tempo\n",
    "for regiao in df_covid['Regiao'].unique():\n",
    "    dados_regiao = df_covid[df_covid['Regiao'] == regiao]\n",
    "    axes[0].plot(dados_regiao['Data'], dados_regiao['Casos'], \n",
    "                 marker='o', label=regiao, linewidth=2)\n",
    "\n",
    "axes[0].set_title('Evolução de Casos de COVID-19 por Região', fontsize=14, fontweight='bold')\n",
    "axes[0].set_xlabel('Data', fontweight='bold')\n",
    "axes[0].set_ylabel('Casos', fontweight='bold')\n",
    "axes[0].legend()\n",
    "axes[0].grid(True, alpha=0.3)\n",
    "\n",
    "# Óbitos ao longo do tempo\n",
    "for regiao in df_covid['Regiao'].unique():\n",
    "    dados_regiao = df_covid[df_covid['Regiao'] == regiao]\n",
    "    axes[1].plot(dados_regiao['Data'], dados_regiao['Obitos'], \n",
    "                 marker='s', label=regiao, linewidth=2)\n",
    "\n",
    "axes[1].set_title('Evolução de Óbitos por COVID-19 por Região', fontsize=14, fontweight='bold')\n",
    "axes[1].set_xlabel('Data', fontweight='bold')\n",
    "axes[1].set_ylabel('Óbitos', fontweight='bold')\n",
    "axes[1].legend()\n",
    "axes[1].grid(True, alpha=0.3)\n",
    "\n",
    "plt.tight_layout()\n",
    "plt.show()"
   ]
  },
  {
   "cell_type": "code",
   "execution_count": null,
   "metadata": {},
   "outputs": [],
   "source": [
    "# Totais por região\n",
    "totais_covid = df_covid.groupby('Regiao').agg({\n",
    "    'Casos': 'sum',\n",
    "    'Obitos': 'sum',\n",
    "    'Vacinados': 'sum'\n",
    "})\n",
    "\n",
    "totais_covid['Taxa_Mortalidade'] = (totais_covid['Obitos'] / totais_covid['Casos'] * 100)\n",
    "totais_covid['Taxa_Vacinacao'] = (totais_covid['Vacinados'] / totais_covid['Casos'] * 100)\n",
    "\n",
    "print(\"Estatísticas Totais de COVID-19 por Região:\")\n",
    "print(totais_covid.round(2))"
   ]
  },
  {
   "cell_type": "code",
   "execution_count": null,
   "metadata": {},
   "outputs": [],
   "source": [
    "# Visualização comparativa\n",
    "fig, axes = plt.subplots(1, 2, figsize=(15, 6))\n",
    "\n",
    "# Casos totais por região\n",
    "totais_covid['Casos'].plot(kind='bar', ax=axes[0], color='steelblue', edgecolor='black')\n",
    "axes[0].set_title('Total de Casos por Região', fontsize=12, fontweight='bold')\n",
    "axes[0].set_xlabel('Região', fontweight='bold')\n",
    "axes[0].set_ylabel('Casos', fontweight='bold')\n",
    "axes[0].tick_params(axis='x', rotation=45)\n",
    "axes[0].grid(True, alpha=0.3, axis='y')\n",
    "\n",
    "# Taxa de mortalidade por região\n",
    "totais_covid['Taxa_Mortalidade'].plot(kind='bar', ax=axes[1], color='crimson', edgecolor='black')\n",
    "axes[1].set_title('Taxa de Mortalidade por Região (%)', fontsize=12, fontweight='bold')\n",
    "axes[1].set_xlabel('Região', fontweight='bold')\n",
    "axes[1].set_ylabel('Taxa (%)', fontweight='bold')\n",
    "axes[1].tick_params(axis='x', rotation=45)\n",
    "axes[1].grid(True, alpha=0.3, axis='y')\n",
    "\n",
    "plt.tight_layout()\n",
    "plt.show()"
   ]
  },
  {
   "cell_type": "markdown",
   "metadata": {},
   "source": [
    "<a id='modulo4'></a>\n",
    "# ⚙️ Módulo 4 – Análise Estatística e Machine Learning\n",
    "\n",
    "Neste módulo exploramos análises estatísticas, testes de hipóteses e introdução a Machine Learning.\n",
    "\n",
    "## 4.1 Estatística Descritiva"
   ]
  },
  {
   "cell_type": "code",
   "execution_count": null,
   "metadata": {},
   "outputs": [],
   "source": [
    "from scipy import stats\n",
    "\n",
    "# Análise estatística completa\n",
    "def analise_estatistica(dados, nome_variavel):\n",
    "    print(f\"\\n{'='*60}\")\n",
    "    print(f\"Análise Estatística: {nome_variavel}\")\n",
    "    print(f\"{'='*60}\")\n",
    "    \n",
    "    print(f\"\\nMedidas de Tendência Central:\")\n",
    "    print(f\"  Média: {np.mean(dados):.2f}\")\n",
    "    print(f\"  Mediana: {np.median(dados):.2f}\")\n",
    "    print(f\"  Moda: {stats.mode(dados, keepdims=True)[0][0]:.2f}\")\n",
    "    \n",
    "    print(f\"\\nMedidas de Dispersão:\")\n",
    "    print(f\"  Variância: {np.var(dados):.2f}\")\n",
    "    print(f\"  Desvio Padrão: {np.std(dados):.2f}\")\n",
    "    print(f\"  Amplitude: {np.max(dados) - np.min(dados):.2f}\")\n",
    "    print(f\"  IQR: {np.percentile(dados, 75) - np.percentile(dados, 25):.2f}\")\n",
    "    \n",
    "    print(f\"\\nMedidas de Posição:\")\n",
    "    print(f\"  Mínimo: {np.min(dados):.2f}\")\n",
    "    print(f\"  Q1 (25%): {np.percentile(dados, 25):.2f}\")\n",
    "    print(f\"  Q2 (50%): {np.percentile(dados, 50):.2f}\")\n",
    "    print(f\"  Q3 (75%): {np.percentile(dados, 75):.2f}\")\n",
    "    print(f\"  Máximo: {np.max(dados):.2f}\")\n",
    "    \n",
    "    print(f\"\\nMedidas de Forma:\")\n",
    "    print(f\"  Assimetria (Skewness): {stats.skew(dados):.2f}\")\n",
    "    print(f\"  Curtose (Kurtosis): {stats.kurtosis(dados):.2f}\")\n",
    "\n",
    "# Aplicar análise\n",
    "analise_estatistica(df['Age'].dropna(), 'Idade dos Passageiros do Titanic')\n",
    "analise_estatistica(df['Fare'].dropna(), 'Tarifa dos Passageiros do Titanic')"
   ]
  },
  {
   "cell_type": "markdown",
   "metadata": {},
   "source": [
    "## 4.2 Testes de Hipóteses"
   ]
  },
  {
   "cell_type": "code",
   "execution_count": null,
   "metadata": {},
   "outputs": [],
   "source": [
    "# Teste t para amostras independentes\n",
    "# H0: Não há diferença na idade média entre sobreviventes e não sobreviventes\n",
    "\n",
    "idade_sobreviventes = df[df['Survived'] == 1]['Age'].dropna()\n",
    "idade_nao_sobreviventes = df[df['Survived'] == 0]['Age'].dropna()\n",
    "\n",
    "t_stat, p_value = stats.ttest_ind(idade_sobreviventes, idade_nao_sobreviventes)\n",
    "\n",
    "print(\"Teste t para Idade: Sobreviventes vs Não Sobreviventes\")\n",
    "print(f\"Média - Sobreviventes: {idade_sobreviventes.mean():.2f}\")\n",
    "print(f\"Média - Não Sobreviventes: {idade_nao_sobreviventes.mean():.2f}\")\n",
    "print(f\"\\nEstatística t: {t_stat:.4f}\")\n",
    "print(f\"P-valor: {p_value:.4f}\")\n",
    "\n",
    "if p_value < 0.05:\n",
    "    print(\"\\nConclusão: Rejeitamos H0. Há diferença significativa nas idades.\")\n",
    "else:\n",
    "    print(\"\\nConclusão: Não rejeitamos H0. Não há diferença significativa.\")"
   ]
  },
  {
   "cell_type": "code",
   "execution_count": null,
   "metadata": {},
   "outputs": [],
   "source": [
    "# Teste Qui-Quadrado de Independência\n",
    "# H0: Classe e Sobrevivência são independentes\n",
    "\n",
    "from scipy.stats import chi2_contingency\n",
    "\n",
    "tabela_contingencia = pd.crosstab(df['Pclass'], df['Survived'])\n",
    "print(\"Tabela de Contingência - Classe x Sobrevivência:\")\n",
    "print(tabela_contingencia)\n",
    "\n",
    "chi2, p_value, dof, expected = chi2_contingency(tabela_contingencia)\n",
    "\n",
    "print(f\"\\nEstatística Qui-Quadrado: {chi2:.4f}\")\n",
    "print(f\"P-valor: {p_value:.4f}\")\n",
    "print(f\"Graus de liberdade: {dof}\")\n",
    "\n",
    "if p_value < 0.05:\n",
    "    print(\"\\nConclusão: Rejeitamos H0. Classe e sobrevivência NÃO são independentes.\")\n",
    "else:\n",
    "    print(\"\\nConclusão: Não rejeitamos H0. Não há evidência de dependência.\")"
   ]
  },
  {
   "cell_type": "code",
   "execution_count": null,
   "metadata": {},
   "outputs": [],
   "source": [
    "# ANOVA - Comparação de múltiplos grupos\n",
    "# H0: A média de tarifa é igual para todas as classes\n",
    "\n",
    "classe1 = df[df['Pclass'] == 1]['Fare'].dropna()\n",
    "classe2 = df[df['Pclass'] == 2]['Fare'].dropna()\n",
    "classe3 = df[df['Pclass'] == 3]['Fare'].dropna()\n",
    "\n",
    "f_stat, p_value = stats.f_oneway(classe1, classe2, classe3)\n",
    "\n",
    "print(\"ANOVA - Tarifa por Classe\")\n",
    "print(f\"Média Classe 1: {classe1.mean():.2f}\")\n",
    "print(f\"Média Classe 2: {classe2.mean():.2f}\")\n",
    "print(f\"Média Classe 3: {classe3.mean():.2f}\")\n",
    "print(f\"\\nEstatística F: {f_stat:.4f}\")\n",
    "print(f\"P-valor: {p_value:.4f}\")\n",
    "\n",
    "if p_value < 0.05:\n",
    "    print(\"\\nConclusão: Rejeitamos H0. Há diferença significativa nas tarifas entre classes.\")\n",
    "else:\n",
    "    print(\"\\nConclusão: Não rejeitamos H0. Não há diferença significativa.\")"
   ]
  },
  {
   "cell_type": "code",
   "execution_count": null,
   "metadata": {},
   "outputs": [],
   "source": [
    "# Teste de Normalidade\n",
    "stat_shapiro, p_shapiro = stats.shapiro(df['Age'].dropna())\n",
    "\n",
    "print(\"Teste de Normalidade (Shapiro-Wilk) - Idade\")\n",
    "print(f\"Estatística: {stat_shapiro:.4f}\")\n",
    "print(f\"P-valor: {p_shapiro:.4f}\")\n",
    "\n",
    "if p_shapiro < 0.05:\n",
    "    print(\"\\nConclusão: Rejeitamos H0. Os dados NÃO seguem distribuição normal.\")\n",
    "else:\n",
    "    print(\"\\nConclusão: Não rejeitamos H0. Os dados seguem distribuição normal.\")"
   ]
  },
  {
   "cell_type": "markdown",
   "metadata": {},
   "source": [
    "## 4.3 Correlação e Regressão"
   ]
  },
  {
   "cell_type": "code",
   "execution_count": null,
   "metadata": {},
   "outputs": [],
   "source": [
    "# Análise de correlação\n",
    "print(\"Correlações (Pearson):\")\n",
    "print(f\"Idade vs Tarifa: {df['Age'].corr(df['Fare']):.4f}\")\n",
    "print(f\"Classe vs Sobrevivência: {df['Pclass'].corr(df['Survived']):.4f}\")\n",
    "\n",
    "# Correlação de Spearman (não linear)\n",
    "spearman_corr, spearman_p = stats.spearmanr(df['Pclass'], df['Survived'])\n",
    "print(f\"\\nCorrelação de Spearman (Classe vs Sobrevivência): {spearman_corr:.4f}\")\n",
    "print(f\"P-valor: {spearman_p:.4f}\")"
   ]
  },
  {
   "cell_type": "code",
   "execution_count": null,
   "metadata": {},
   "outputs": [],
   "source": [
    "# Regressão Linear Simples\n",
    "from sklearn.linear_model import LinearRegression\n",
    "from sklearn.metrics import r2_score, mean_squared_error, mean_absolute_error\n",
    "\n",
    "# Preparar dados (remover NaN)\n",
    "dados_regressao = df[['Age', 'Fare']].dropna()\n",
    "X = dados_regressao[['Age']].values\n",
    "y = dados_regressao['Fare'].values\n",
    "\n",
    "# Criar e treinar modelo\n",
    "modelo_lr = LinearRegression()\n",
    "modelo_lr.fit(X, y)\n",
    "\n",
    "# Predições\n",
    "y_pred = modelo_lr.predict(X)\n",
    "\n",
    "# Métricas\n",
    "print(\"Regressão Linear: Idade → Tarifa\")\n",
    "print(f\"Intercepto: {modelo_lr.intercept_:.2f}\")\n",
    "print(f\"Coeficiente: {modelo_lr.coef_[0]:.2f}\")\n",
    "print(f\"\\nR² Score: {r2_score(y, y_pred):.4f}\")\n",
    "print(f\"RMSE: {np.sqrt(mean_squared_error(y, y_pred)):.2f}\")\n",
    "print(f\"MAE: {mean_absolute_error(y, y_pred):.2f}\")"
   ]
  },
  {
   "cell_type": "code",
   "execution_count": null,
   "metadata": {},
   "outputs": [],
   "source": [
    "# Visualização da regressão\n",
    "plt.figure(figsize=(10, 6))\n",
    "plt.scatter(X, y, alpha=0.5, label='Dados reais')\n",
    "plt.plot(X, y_pred, color='red', linewidth=2, label='Linha de regressão')\n",
    "plt.xlabel('Idade', fontweight='bold')\n",
    "plt.ylabel('Tarifa', fontweight='bold')\n",
    "plt.title(f'Regressão Linear: Idade vs Tarifa (R² = {r2_score(y, y_pred):.3f})', \n",
    "          fontsize=14, fontweight='bold')\n",
    "plt.legend()\n",
    "plt.grid(True, alpha=0.3)\n",
    "plt.show()"
   ]
  },
  {
   "cell_type": "markdown",
   "metadata": {},
   "source": [
    "## 4.4 Machine Learning - Classificação"
   ]
  },
  {
   "cell_type": "code",
   "execution_count": null,
   "metadata": {},
   "outputs": [],
   "source": [
    "from sklearn.model_selection import train_test_split\n",
    "from sklearn.preprocessing import StandardScaler\n",
    "from sklearn.linear_model import LogisticRegression\n",
    "from sklearn.ensemble import RandomForestClassifier\n",
    "from sklearn.metrics import accuracy_score, classification_report, confusion_matrix\n",
    "\n",
    "# Preparar dados para classificação\n",
    "df_ml = df[['Pclass', 'Sex', 'Age', 'Fare', 'Survived']].copy()\n",
    "df_ml = df_ml.dropna()\n",
    "\n",
    "# Encoding de variável categórica\n",
    "df_ml['Sex_encoded'] = df_ml['Sex'].map({'Masculino': 0, 'Feminino': 1})\n",
    "\n",
    "# Features e target\n",
    "X = df_ml[['Pclass', 'Sex_encoded', 'Age', 'Fare']]\n",
    "y = df_ml['Survived']\n",
    "\n",
    "# Divisão treino/teste\n",
    "X_train, X_test, y_train, y_test = train_test_split(X, y, test_size=0.2, \n",
    "                                                      random_state=42, stratify=y)\n",
    "\n",
    "# Normalização\n",
    "scaler = StandardScaler()\n",
    "X_train_scaled = scaler.fit_transform(X_train)\n",
    "X_test_scaled = scaler.transform(X_test)\n",
    "\n",
    "print(f\"Dados de treino: {X_train.shape}\")\n",
    "print(f\"Dados de teste: {X_test.shape}\")\n",
    "print(f\"\\nDistribuição da classe (treino):\")\n",
    "print(y_train.value_counts(normalize=True))"
   ]
  },
  {
   "cell_type": "code",
   "execution_count": null,
   "metadata": {},
   "outputs": [],
   "source": [
    "# Modelo 1: Regressão Logística\n",
    "modelo_lr = LogisticRegression(random_state=42)\n",
    "modelo_lr.fit(X_train_scaled, y_train)\n",
    "\n",
    "y_pred_lr = modelo_lr.predict(X_test_scaled)\n",
    "acuracia_lr = accuracy_score(y_test, y_pred_lr)\n",
    "\n",
    "print(\"=\"*60)\n",
    "print(\"REGRESSÃO LOGÍSTICA\")\n",
    "print(\"=\"*60)\n",
    "print(f\"\\nAcurácia: {acuracia_lr:.3f}\")\n",
    "print(\"\\nRelatório de Classificação:\")\n",
    "print(classification_report(y_test, y_pred_lr, \n",
    "                          target_names=['Não Sobreviveu', 'Sobreviveu']))\n",
    "\n",
    "# Matriz de confusão\n",
    "cm_lr = confusion_matrix(y_test, y_pred_lr)\n",
    "plt.figure(figsize=(8, 6))\n",
    "sns.heatmap(cm_lr, annot=True, fmt='d', cmap='Blues', \n",
    "            xticklabels=['Não Sobreviveu', 'Sobreviveu'],\n",
    "            yticklabels=['Não Sobreviveu', 'Sobreviveu'])\n",
    "plt.title('Matriz de Confusão - Regressão Logística', fontweight='bold')\n",
    "plt.ylabel('Real', fontweight='bold')\n",
    "plt.xlabel('Predito', fontweight='bold')\n",
    "plt.show()"
   ]
  },
  {
   "cell_type": "code",
   "execution_count": null,
   "metadata": {},
   "outputs": [],
   "source": [
    "# Modelo 2: Random Forest\n",
    "modelo_rf = RandomForestClassifier(n_estimators=100, random_state=42)\n",
    "modelo_rf.fit(X_train_scaled, y_train)\n",
    "\n",
    "y_pred_rf = modelo_rf.predict(X_test_scaled)\n",
    "acuracia_rf = accuracy_score(y_test, y_pred_rf)\n",
    "\n",
    "print(\"=\"*60)\n",
    "print(\"RANDOM FOREST\")\n",
    "print(\"=\"*60)\n",
    "print(f\"\\nAcurácia: {acuracia_rf:.3f}\")\n",
    "print(\"\\nRelatório de Classificação:\")\n",
    "print(classification_report(y_test, y_pred_rf, \n",
    "                          target_names=['Não Sobreviveu', 'Sobreviveu']))\n",
    "\n",
    "# Feature importance\n",
    "importancias = pd.DataFrame({\n",
    "    'Feature': X.columns,\n",
    "    'Importância': modelo_rf.feature_importances_\n",
    "}).sort_values('Importância', ascending=False)\n",
    "\n",
    "print(\"\\nImportância das Features:\")\n",
    "print(importancias)\n",
    "\n",
    "# Visualizar importância\n",
    "plt.figure(figsize=(10, 6))\n",
    "sns.barplot(x='Importância', y='Feature', data=importancias, palette='viridis')\n",
    "plt.title('Importância das Features - Random Forest', fontweight='bold')\n",
    "plt.xlabel('Importância', fontweight='bold')\n",
    "plt.ylabel('Feature', fontweight='bold')\n",
    "plt.show()"
   ]
  },
  {
   "cell_type": "code",
   "execution_count": null,
   "metadata": {},
   "outputs": [],
   "source": [
    "# Curva ROC\n",
    "from sklearn.metrics import roc_curve, roc_auc_score\n",
    "\n",
    "# Probabilidades\n",
    "y_proba_lr = modelo_lr.predict_proba(X_test_scaled)[:, 1]\n",
    "y_proba_rf = modelo_rf.predict_proba(X_test_scaled)[:, 1]\n",
    "\n",
    "# Calcular ROC\n",
    "fpr_lr, tpr_lr, _ = roc_curve(y_test, y_proba_lr)\n",
    "fpr_rf, tpr_rf, _ = roc_curve(y_test, y_proba_rf)\n",
    "\n",
    "auc_lr = roc_auc_score(y_test, y_proba_lr)\n",
    "auc_rf = roc_auc_score(y_test, y_proba_rf)\n",
    "\n",
    "# Plotar\n",
    "plt.figure(figsize=(10, 6))\n",
    "plt.plot(fpr_lr, tpr_lr, linewidth=2, label=f'Regressão Logística (AUC = {auc_lr:.3f})')\n",
    "plt.plot(fpr_rf, tpr_rf, linewidth=2, label=f'Random Forest (AUC = {auc_rf:.3f})')\n",
    "plt.plot([0, 1], [0, 1], 'k--', label='Random (AUC = 0.5)')\n",
    "plt.xlabel('Taxa de Falsos Positivos', fontweight='bold')\n",
    "plt.ylabel('Taxa de Verdadeiros Positivos', fontweight='bold')\n",
    "plt.title('Curva ROC - Comparação de Modelos', fontsize=14, fontweight='bold')\n",
    "plt.legend(loc='lower right')\n",
    "plt.grid(True, alpha=0.3)\n",
    "plt.show()"
   ]
  },
  {
   "cell_type": "code",
   "execution_count": null,
   "metadata": {},
   "outputs": [],
   "source": [
    "# Validação Cruzada\n",
    "from sklearn.model_selection import cross_val_score, KFold\n",
    "\n",
    "kfold = KFold(n_splits=5, shuffle=True, random_state=42)\n",
    "\n",
    "# Regressão Logística\n",
    "scores_lr = cross_val_score(modelo_lr, X_train_scaled, y_train, \n",
    "                             cv=kfold, scoring='accuracy')\n",
    "print(\"Validação Cruzada - Regressão Logística\")\n",
    "print(f\"Scores: {scores_lr}\")\n",
    "print(f\"Média: {scores_lr.mean():.3f} (+/- {scores_lr.std():.3f})\")\n",
    "\n",
    "# Random Forest\n",
    "scores_rf = cross_val_score(modelo_rf, X_train_scaled, y_train, \n",
    "                             cv=kfold, scoring='accuracy')\n",
    "print(\"\\nValidação Cruzada - Random Forest\")\n",
    "print(f\"Scores: {scores_rf}\")\n",
    "print(f\"Média: {scores_rf.mean():.3f} (+/- {scores_rf.std():.3f})\")"
   ]
  },
  {
   "cell_type": "markdown",
   "metadata": {},
   "source": [
    "## 4.5 Clustering - Análise de Filmes"
   ]
  },
  {
   "cell_type": "code",
   "execution_count": null,
   "metadata": {},
   "outputs": [],
   "source": [
    "# Carregar dataset de filmes\n",
    "df_filmes = pd.read_csv(\"datasets/filmes.csv\")\n",
    "print(\"Dataset de Filmes:\")\n",
    "print(df_filmes.head())\n",
    "print(f\"\\nTotal de filmes: {len(df_filmes)}\")\n",
    "print(f\"Gêneros únicos: {df_filmes['Genero'].unique()}\")"
   ]
  },
  {
   "cell_type": "code",
   "execution_count": null,
   "metadata": {},
   "outputs": [],
   "source": [
    "from sklearn.cluster import KMeans\n",
    "from sklearn.preprocessing import StandardScaler\n",
    "from sklearn.metrics import silhouette_score\n",
    "\n",
    "# Preparar dados para clustering\n",
    "X_cluster = df_filmes[['Ano', 'Nota', 'Popularidade']].copy()\n",
    "\n",
    "# Normalizar\n",
    "scaler_cluster = StandardScaler()\n",
    "X_cluster_scaled = scaler_cluster.fit_transform(X_cluster)\n",
    "\n",
    "# Método do cotovelo\n",
    "inertias = []\n",
    "silhouette_scores = []\n",
    "K_range = range(2, 11)\n",
    "\n",
    "for k in K_range:\n",
    "    kmeans = KMeans(n_clusters=k, random_state=42, n_init=10)\n",
    "    kmeans.fit(X_cluster_scaled)\n",
    "    inertias.append(kmeans.inertia_)\n",
    "    silhouette_scores.append(silhouette_score(X_cluster_scaled, kmeans.labels_))\n",
    "\n",
    "# Visualizar método do cotovelo\n",
    "fig, axes = plt.subplots(1, 2, figsize=(15, 5))\n",
    "\n",
    "axes[0].plot(K_range, inertias, 'bo-', linewidth=2)\n",
    "axes[0].set_xlabel('Número de Clusters', fontweight='bold')\n",
    "axes[0].set_ylabel('Inércia', fontweight='bold')\n",
    "axes[0].set_title('Método do Cotovelo', fontweight='bold')\n",
    "axes[0].grid(True, alpha=0.3)\n",
    "\n",
    "axes[1].plot(K_range, silhouette_scores, 'ro-', linewidth=2)\n",
    "axes[1].set_xlabel('Número de Clusters', fontweight='bold')\n",
    "axes[1].set_ylabel('Silhouette Score', fontweight='bold')\n",
    "axes[1].set_title('Silhouette Score por Número de Clusters', fontweight='bold')\n",
    "axes[1].grid(True, alpha=0.3)\n",
    "\n",
    "plt.tight_layout()\n",
    "plt.show()"
   ]
  },
  {
   "cell_type": "code",
   "execution_count": null,
   "metadata": {},
   "outputs": [],
   "source": [
    "# Aplicar K-Means com k=4\n",
    "kmeans_final = KMeans(n_clusters=4, random_state=42, n_init=10)\n",
    "df_filmes['Cluster'] = kmeans_final.fit_predict(X_cluster_scaled)\n",
    "\n",
    "print(f\"Silhouette Score: {silhouette_score(X_cluster_scaled, df_filmes['Cluster']):.3f}\")\n",
    "print(\"\\nDistribuição de filmes por cluster:\")\n",
    "print(df_filmes['Cluster'].value_counts().sort_index())\n",
    "\n",
    "print(\"\\nCaracterísticas médias por cluster:\")\n",
    "print(df_filmes.groupby('Cluster')[['Ano', 'Nota', 'Popularidade']].mean())"
   ]
  },
  {
   "cell_type": "code",
   "execution_count": null,
   "metadata": {},
   "outputs": [],
   "source": [
    "# Visualizar clusters\n",
    "fig = plt.figure(figsize=(15, 5))\n",
    "\n",
    "# Plot 1: Nota vs Popularidade\n",
    "ax1 = fig.add_subplot(131)\n",
    "scatter1 = ax1.scatter(df_filmes['Nota'], df_filmes['Popularidade'], \n",
    "                        c=df_filmes['Cluster'], cmap='viridis', alpha=0.6)\n",
    "ax1.set_xlabel('Nota', fontweight='bold')\n",
    "ax1.set_ylabel('Popularidade', fontweight='bold')\n",
    "ax1.set_title('Clusters: Nota vs Popularidade', fontweight='bold')\n",
    "plt.colorbar(scatter1, ax=ax1, label='Cluster')\n",
    "\n",
    "# Plot 2: Ano vs Nota\n",
    "ax2 = fig.add_subplot(132)\n",
    "scatter2 = ax2.scatter(df_filmes['Ano'], df_filmes['Nota'], \n",
    "                        c=df_filmes['Cluster'], cmap='viridis', alpha=0.6)\n",
    "ax2.set_xlabel('Ano', fontweight='bold')\n",
    "ax2.set_ylabel('Nota', fontweight='bold')\n",
    "ax2.set_title('Clusters: Ano vs Nota', fontweight='bold')\n",
    "plt.colorbar(scatter2, ax=ax2, label='Cluster')\n",
    "\n",
    "# Plot 3: Ano vs Popularidade\n",
    "ax3 = fig.add_subplot(133)\n",
    "scatter3 = ax3.scatter(df_filmes['Ano'], df_filmes['Popularidade'], \n",
    "                        c=df_filmes['Cluster'], cmap='viridis', alpha=0.6)\n",
    "ax3.set_xlabel('Ano', fontweight='bold')\n",
    "ax3.set_ylabel('Popularidade', fontweight='bold')\n",
    "ax3.set_title('Clusters: Ano vs Popularidade', fontweight='bold')\n",
    "plt.colorbar(scatter3, ax=ax3, label='Cluster')\n",
    "\n",
    "plt.tight_layout()\n",
    "plt.show()"
   ]
  },
  {
   "cell_type": "markdown",
   "metadata": {},
   "source": [
    "<a id='modulo5'></a>\n",
    "# 🎓 Módulo 5 – Projeto Final Integrado\n",
    "\n",
    "Neste módulo, você deve escolher um dos datasets disponíveis e desenvolver uma análise completa.\n",
    "\n",
    "## Datasets Disponíveis\n",
    "\n",
    "1. **titanic.csv** - Análise de sobrevivência de passageiros\n",
    "2. **vendas.csv** - Análise de vendas regionais e desempenho de produtos\n",
    "3. **ibge_populacao.csv** - Indicadores populacionais e variação temporal\n",
    "4. **covid.csv** - Casos, óbitos e taxas de vacinação\n",
    "5. **filmes.csv** - Notas médias, popularidade e gêneros\n",
    "\n",
    "## Estrutura do Projeto Final\n",
    "\n",
    "Seu projeto deve incluir:\n",
    "\n",
    "### 1. Introdução\n",
    "- Contexto do problema\n",
    "- Objetivos da análise\n",
    "- Perguntas que serão respondidas\n",
    "\n",
    "### 2. Exploração dos Dados\n",
    "- Carregamento e visualização inicial\n",
    "- Estatísticas descritivas\n",
    "- Identificação de valores ausentes e outliers\n",
    "\n",
    "### 3. Limpeza e Preparação\n",
    "- Tratamento de valores ausentes\n",
    "- Remoção de duplicatas\n",
    "- Criação de novas features (feature engineering)\n",
    "- Transformações necessárias\n",
    "\n",
    "### 4. Análise Exploratória (EDA)\n",
    "- Visualizações relevantes\n",
    "- Análise de distribuições\n",
    "- Identificação de padrões e tendências\n",
    "- Análise de correlações\n",
    "\n",
    "### 5. Análise Estatística\n",
    "- Testes de hipóteses apropriados\n",
    "- Análise de significância\n",
    "- Intervalos de confiança\n",
    "\n",
    "### 6. Modelagem (opcional)\n",
    "- Modelo preditivo ou de clustering\n",
    "- Avaliação de desempenho\n",
    "- Interpretação dos resultados\n",
    "\n",
    "### 7. Insights e Conclusões\n",
    "- Principais descobertas\n",
    "- Resposta às perguntas iniciais\n",
    "- Recomendações baseadas na análise\n",
    "- Limitações do estudo\n",
    "\n",
    "### 8. Documentação\n",
    "- Código bem comentado\n",
    "- Explicações claras das escolhas metodológicas\n",
    "- Referências utilizadas"
   ]
  },
  {
   "cell_type": "markdown",
   "metadata": {},
   "source": [
    "## Exemplo de Estrutura - Análise de População IBGE"
   ]
  },
  {
   "cell_type": "code",
   "execution_count": null,
   "metadata": {},
   "outputs": [],
   "source": [
    "# Carregar dados\n",
    "df_ibge = pd.read_csv(\"datasets/ibge_populacao.csv\")\n",
    "\n",
    "print(\"Dataset IBGE - População:\")\n",
    "print(df_ibge.head())\n",
    "print(f\"\\nPeríodo: {df_ibge['Ano'].min()} a {df_ibge['Ano'].max()}\")\n",
    "print(f\"\\nRegiões: {df_ibge['Regiao'].unique()}\")"
   ]
  },
  {
   "cell_type": "code",
   "execution_count": null,
   "metadata": {},
   "outputs": [],
   "source": [
    "# Análise por região\n",
    "print(\"População Total por Região (2024):\")\n",
    "pop_2024 = df_ibge[df_ibge['Ano'] == df_ibge['Ano'].max()]\n",
    "print(pop_2024.sort_values('Populacao', ascending=False))\n",
    "\n",
    "# Crescimento populacional\n",
    "pivot_ibge = df_ibge.pivot(index='Ano', columns='Regiao', values='Populacao')\n",
    "print(\"\\nCrescimento Populacional por Região:\")\n",
    "crescimento = ((pivot_ibge.loc[pivot_ibge.index.max()] - \n",
    "                pivot_ibge.loc[pivot_ibge.index.min()]) / \n",
    "               pivot_ibge.loc[pivot_ibge.index.min()] * 100)\n",
    "print(crescimento.sort_values(ascending=False))"
   ]
  },
  {
   "cell_type": "code",
   "execution_count": null,
   "metadata": {},
   "outputs": [],
   "source": [
    "# Visualização da evolução populacional\n",
    "plt.figure(figsize=(15, 6))\n",
    "\n",
    "for regiao in df_ibge['Regiao'].unique():\n",
    "    dados_regiao = df_ibge[df_ibge['Regiao'] == regiao]\n",
    "    plt.plot(dados_regiao['Ano'], dados_regiao['Populacao'], \n",
    "             marker='o', linewidth=2, label=regiao)\n",
    "\n",
    "plt.title('Evolução Populacional por Região (2015-2024)', fontsize=14, fontweight='bold')\n",
    "plt.xlabel('Ano', fontweight='bold')\n",
    "plt.ylabel('População', fontweight='bold')\n",
    "plt.legend(title='Região', loc='best')\n",
    "plt.grid(True, alpha=0.3)\n",
    "plt.tight_layout()\n",
    "plt.show()"
   ]
  },
  {
   "cell_type": "markdown",
   "metadata": {},
   "source": [
    "## Espaço para Seu Projeto Final\n",
    "\n",
    "Use as células abaixo para desenvolver seu projeto final."
   ]
  },
  {
   "cell_type": "code",
   "execution_count": null,
   "metadata": {},
   "outputs": [],
   "source": [
    "# Seu código aqui\n"
   ]
  },
  {
   "cell_type": "markdown",
   "metadata": {},
   "source": [
    "## ✅ Conclusão\n",
    "\n",
    "Este notebook forneceu uma base técnica sólida em programação e manipulação de dados com Python, integrando:\n",
    "\n",
    "- **Fundamentos de Python**: Estruturas de dados, funções, compreensões\n",
    "- **NumPy**: Computação numérica eficiente\n",
    "- **Pandas**: Manipulação e análise de dados tabulares\n",
    "- **Visualização**: Matplotlib e Seaborn para insights visuais\n",
    "- **Estatística**: Testes de hipóteses e análises estatísticas\n",
    "- **Machine Learning**: Classificação, regressão e clustering\n",
    "\n",
    "### Próximos Passos\n",
    "\n",
    "1. Completar o projeto final escolhido\n",
    "2. Explorar técnicas avançadas de feature engineering\n",
    "3. Aprofundar em algoritmos de Machine Learning\n",
    "4. Estudar Deep Learning e redes neurais\n",
    "5. Desenvolver projetos próprios\n",
    "\n",
    "### Recursos Adicionais\n",
    "\n",
    "- Documentação oficial: [pandas.pydata.org](https://pandas.pydata.org)\n",
    "- Scikit-learn: [scikit-learn.org](https://scikit-learn.org)\n",
    "- Kaggle: [kaggle.com](https://kaggle.com) - datasets e competições\n",
    "\n",
    "**Bons estudos e boa análise de dados!**"
   ]
  }
 ],
 "metadata": {
  "kernelspec": {
   "display_name": "Python 3",
   "language": "python",
   "name": "python3"
  },
  "language_info": {
   "codemirror_mode": {
    "name": "ipython",
    "version": 3
   },
   "file_extension": ".py",
   "mimetype": "text/x-python",
   "name": "python",
   "nbconvert_exporter": "python",
   "pygments_lexer": "ipython3",
   "version": "3.13.1"
  }
 },
 "nbformat": 4,
 "nbformat_minor": 4
}
